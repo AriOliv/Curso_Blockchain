{
 "cells": [
  {
   "cell_type": "markdown",
   "metadata": {},
   "source": [
    "# O Bitcoin e seu funcionamento\n",
    "O Bitcoin é a primeira forma de dinheiro digital descentralizado a ganhar popularidade. Devido ao seu design inivador, 10 anos após a sua criação continua a ser a criptomoeda de maior expresão no mercado respondendo por cerca de 50% de todo o volume de transações do mercado de criptomoedas."
   ]
  },
  {
   "cell_type": "code",
   "execution_count": 6,
   "metadata": {
    "ExecuteTime": {
     "end_time": "2021-08-20T13:28:15.938031Z",
     "start_time": "2021-08-20T13:28:15.929008Z"
    },
    "extensions": {
     "jupyter_dashboards": {
      "version": 1,
      "views": {
       "grid_default": {
        "hidden": true
       },
       "report_default": {}
      }
     }
    }
   },
   "outputs": [],
   "source": [
    "from bitcoin import *"
   ]
  },
  {
   "cell_type": "markdown",
   "metadata": {
    "extensions": {
     "jupyter_dashboards": {
      "version": 1,
      "views": {
       "grid_default": {
        "col": 0,
        "height": 7,
        "hidden": false,
        "row": 0,
        "width": 12
       },
       "report_default": {}
      }
     }
    }
   },
   "source": [
    "# Interagindo com a tecnologia da Bitcoin\n",
    "\n",
    "Neste notebook vamos utilizar algumas ferramentas já disponíveis na linguagem Python para explorar o funcionamento da Bitcoin. Certifique-se de estar usando pelo menos a versão 3.5 do Python antes de começar. Os pacotes Python necessários estão listados no arquivo `requirements.txt` na raiz deste repositório. Para instalá-los basta executar o seguinte comando:\n",
    "```\n",
    "pip3 install -r requirements.txt\n",
    "```"
   ]
  },
  {
   "cell_type": "markdown",
   "metadata": {
    "extensions": {
     "jupyter_dashboards": {
      "version": 1,
      "views": {
       "grid_default": {
        "hidden": true
       },
       "report_default": {}
      }
     }
    }
   },
   "source": [
    "## Entendendo os endereços\n",
    "\n",
    "vamos começar criando uma chave privada. Na bitcoin, a chave privada é apenas um número inteiro de 256 bits. Logo utilizaremos uma função Hash para gerar este número a partir de uma frase-senha. Mais adiante vamos explorar melhor as funções Hash, por ora basta saber que esta função mapeia qualquer input para um números de 256 bits. Logo, o tamanho do conjunto imagem é $2^{255}$."
   ]
  },
  {
   "cell_type": "code",
   "execution_count": 7,
   "metadata": {
    "ExecuteTime": {
     "end_time": "2021-08-20T13:29:21.823819Z",
     "start_time": "2021-08-20T13:29:21.816384Z"
    }
   },
   "outputs": [
    {
     "data": {
      "text/plain": [
       "'57c617d9b4e1f7af6ec97ca2ff57e94a28279a7eedd4d12a99fa11170e94f5a4'"
      ]
     },
     "execution_count": 7,
     "metadata": {},
     "output_type": "execute_result"
    }
   ],
   "source": [
    "priv = sha256('some big long brainwallet password')\n",
    "priv"
   ]
  },
  {
   "cell_type": "markdown",
   "metadata": {},
   "source": [
    "A chave pública pode ser calculada a partir da chave privada, mas o contrário não é verdadeiro."
   ]
  },
  {
   "cell_type": "code",
   "execution_count": 8,
   "metadata": {
    "ExecuteTime": {
     "end_time": "2021-08-20T13:30:03.475688Z",
     "start_time": "2021-08-20T13:30:03.465788Z"
    }
   },
   "outputs": [
    {
     "data": {
      "text/plain": [
       "'0420f34c2786b4bae593e22596631b025f3ff46e200fc1d4b52ef49bbdc2ed00b26c584b7e32523fb01be2294a1f8a5eb0cf71a203cc034ced46ea92a8df16c6e9'"
      ]
     },
     "execution_count": 8,
     "metadata": {},
     "output_type": "execute_result"
    }
   ],
   "source": [
    "pub = privtopub(priv)\n",
    "pub"
   ]
  },
  {
   "cell_type": "markdown",
   "metadata": {},
   "source": [
    "Vamos tentar entender como a chave pública é gerada a partir da chave privada."
   ]
  },
  {
   "cell_type": "code",
   "execution_count": 9,
   "metadata": {
    "ExecuteTime": {
     "end_time": "2021-08-20T13:30:13.066701Z",
     "start_time": "2021-08-20T13:30:13.051925Z"
    }
   },
   "outputs": [],
   "source": [
    "privtopub??"
   ]
  },
  {
   "cell_type": "markdown",
   "metadata": {},
   "source": [
    "cada par de chaves pública e privada correspondem a um endereço na blockchain da Bitcoin: Também chamado de uma carteira. O endereço é basicamente uma \"abreviação\" da chave pública, por meio da aplicação de uma segunda hash function, a RIPEMD-160 sobre a chave pública. Isto é feito para que o endereço seja mais \"curto\"."
   ]
  },
  {
   "cell_type": "code",
   "execution_count": 10,
   "metadata": {
    "ExecuteTime": {
     "end_time": "2021-08-20T13:32:02.959681Z",
     "start_time": "2021-08-20T13:32:02.954925Z"
    }
   },
   "outputs": [
    {
     "data": {
      "text/plain": [
       "'1CQLd3bhw4EzaURHbKCwM5YZbUQfA4ReY6'"
      ]
     },
     "execution_count": 10,
     "metadata": {},
     "output_type": "execute_result"
    }
   ],
   "source": [
    "end = pubtoaddr(pub)\n",
    "end"
   ]
  },
  {
   "cell_type": "markdown",
   "metadata": {},
   "source": [
    "vamos verificar o histórico de transações desta carteira"
   ]
  },
  {
   "cell_type": "code",
   "execution_count": 11,
   "metadata": {
    "ExecuteTime": {
     "end_time": "2021-08-20T13:33:07.917507Z",
     "start_time": "2021-08-20T13:33:07.573274Z"
    }
   },
   "outputs": [
    {
     "data": {
      "text/plain": [
       "[{'address': '1CQLd3bhw4EzaURHbKCwM5YZbUQfA4ReY6',\n",
       "  'value': 500000,\n",
       "  'output': 'b0aad2e5184099b20d53100a678e9bec2eab1b0710fb06930f333387492a82b3:0',\n",
       "  'block_height': 363957,\n",
       "  'spend': '05551814576ba084a0736abd8df411061c5ea7e4ae72d334317f5504f6b331d6:0'},\n",
       " {'address': '1CQLd3bhw4EzaURHbKCwM5YZbUQfA4ReY6',\n",
       "  'value': 50000,\n",
       "  'output': '97f7c7d8ac85e40c255f8a763b6cd9a68f3a94d2e93e8bfa08f977b92e55465e:0',\n",
       "  'block_height': 262537,\n",
       "  'spend': '772bebdf445d719d90d52a3029d27e90aa8f26eca8d431fc77cc487c377a89c4:0'},\n",
       " {'address': '1CQLd3bhw4EzaURHbKCwM5YZbUQfA4ReY6',\n",
       "  'value': 50000,\n",
       "  'output': '4cc806bb04f730c445c60b3e0f4f44b54769a1c196ca37d8d4002135e4abd171:1',\n",
       "  'block_height': 262537,\n",
       "  'spend': '772bebdf445d719d90d52a3029d27e90aa8f26eca8d431fc77cc487c377a89c4:1'}]"
      ]
     },
     "execution_count": 11,
     "metadata": {},
     "output_type": "execute_result"
    }
   ],
   "source": [
    "h = history(end)\n",
    "h"
   ]
  },
  {
   "cell_type": "code",
   "execution_count": 13,
   "metadata": {
    "ExecuteTime": {
     "end_time": "2021-08-20T13:39:46.876171Z",
     "start_time": "2021-08-20T13:39:46.842897Z"
    }
   },
   "outputs": [],
   "source": [
    "history??"
   ]
  },
  {
   "cell_type": "code",
   "execution_count": 12,
   "metadata": {
    "ExecuteTime": {
     "end_time": "2021-08-20T13:38:06.690965Z",
     "start_time": "2021-08-20T13:38:06.374249Z"
    }
   },
   "outputs": [
    {
     "data": {
      "text/plain": [
       "[{'address': 'bc1qhhg6lzl2xlwj7scqczcuuetcpz3t54vtvv9gwp',\n",
       "  'value': 80656605,\n",
       "  'output': 'f6f16e52e62a741a0377bb4c183ae01d1893f15d8447fe4491ae67f26cb1a3fe:0',\n",
       "  'block_height': 696644,\n",
       "  'spend': '5058bb3ebcceba70a04119015b57e6889328411bb1021db22ff7b37176035b7b:0'}]"
      ]
     },
     "execution_count": 12,
     "metadata": {},
     "output_type": "execute_result"
    }
   ],
   "source": [
    "history('bc1qhhg6lzl2xlwj7scqczcuuetcpz3t54vtvv9gwp')"
   ]
  },
  {
   "cell_type": "code",
   "execution_count": null,
   "metadata": {},
   "outputs": [],
   "source": []
  }
 ],
 "metadata": {
  "extensions": {
   "jupyter_dashboards": {
    "activeView": "grid_default",
    "version": 1,
    "views": {
     "grid_default": {
      "cellMargin": 10,
      "defaultCellHeight": 20,
      "maxColumns": 12,
      "name": "grid",
      "type": "grid"
     },
     "report_default": {
      "name": "report",
      "type": "report"
     }
    }
   }
  },
  "hide_input": false,
  "kernelspec": {
   "display_name": "Python 3",
   "language": "python",
   "name": "python3"
  },
  "language_info": {
   "codemirror_mode": {
    "name": "ipython",
    "version": 3
   },
   "file_extension": ".py",
   "mimetype": "text/x-python",
   "name": "python",
   "nbconvert_exporter": "python",
   "pygments_lexer": "ipython3",
   "version": "3.8.10"
  },
  "latex_envs": {
   "LaTeX_envs_menu_present": true,
   "autoclose": false,
   "autocomplete": true,
   "bibliofile": "biblio.bib",
   "cite_by": "apalike",
   "current_citInitial": 1,
   "eqLabelWithNumbers": true,
   "eqNumInitial": 1,
   "hotkeys": {
    "equation": "Ctrl-E",
    "itemize": "Ctrl-I"
   },
   "labels_anchors": false,
   "latex_user_defs": false,
   "report_style_numbering": false,
   "user_envs_cfg": false
  },
  "nbTranslate": {
   "displayLangs": [
    "*"
   ],
   "hotkey": "alt-t",
   "langInMainMenu": true,
   "sourceLang": "en",
   "targetLang": "fr",
   "useGoogleTranslate": true
  },
  "toc": {
   "base_numbering": 1,
   "nav_menu": {},
   "number_sections": true,
   "sideBar": true,
   "skip_h1_title": false,
   "title_cell": "Table of Contents",
   "title_sidebar": "Contents",
   "toc_cell": false,
   "toc_position": {},
   "toc_section_display": true,
   "toc_window_display": false
  },
  "varInspector": {
   "cols": {
    "lenName": 16,
    "lenType": 16,
    "lenVar": 40
   },
   "kernels_config": {
    "python": {
     "delete_cmd_postfix": "",
     "delete_cmd_prefix": "del ",
     "library": "var_list.py",
     "varRefreshCmd": "print(var_dic_list())"
    },
    "r": {
     "delete_cmd_postfix": ") ",
     "delete_cmd_prefix": "rm(",
     "library": "var_list.r",
     "varRefreshCmd": "cat(var_dic_list()) "
    }
   },
   "types_to_exclude": [
    "module",
    "function",
    "builtin_function_or_method",
    "instance",
    "_Feature"
   ],
   "window_display": false
  }
 },
 "nbformat": 4,
 "nbformat_minor": 2
}
